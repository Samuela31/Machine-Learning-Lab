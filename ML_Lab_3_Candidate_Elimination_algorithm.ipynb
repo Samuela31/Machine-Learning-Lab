{
  "nbformat": 4,
  "nbformat_minor": 0,
  "metadata": {
    "colab": {
      "provenance": [],
      "authorship_tag": "ABX9TyNTKH7nmZYTqH7BH9tDwMYi",
      "include_colab_link": true
    },
    "kernelspec": {
      "name": "python3",
      "display_name": "Python 3"
    },
    "language_info": {
      "name": "python"
    }
  },
  "cells": [
    {
      "cell_type": "markdown",
      "metadata": {
        "id": "view-in-github",
        "colab_type": "text"
      },
      "source": [
        "<a href=\"https://colab.research.google.com/github/Samuela31/Machine-Learning-Lab/blob/main/ML_Lab_3_Candidate_Elimination_algorithm.ipynb\" target=\"_parent\"><img src=\"https://colab.research.google.com/assets/colab-badge.svg\" alt=\"Open In Colab\"/></a>"
      ]
    },
    {
      "cell_type": "code",
      "source": [
        "import pandas as pd\n",
        "import numpy as np\n",
        "\n",
        "df = pd.read_csv('enjoysport.csv') #reading csv file\n",
        "\n",
        "print(df)"
      ],
      "metadata": {
        "colab": {
          "base_uri": "https://localhost:8080/"
        },
        "id": "RYQmZivenIM-",
        "outputId": "587d4133-b4a1-4214-e4bf-e880191c4844"
      },
      "execution_count": null,
      "outputs": [
        {
          "output_type": "stream",
          "name": "stdout",
          "text": [
            "     Sky  Temp Humidity    Wind Water Forecast EnjoySport\n",
            "0  Sunny  Warm   Normal  Strong  Warm     Same        Yes\n",
            "1  Sunny  Warm     High  Strong  Warm     Same        Yes\n",
            "2  Rainy  Cold     High  Strong  Warm   Change         No\n",
            "3  Sunny  Warm     High  Strong  Cool   Change        Yes\n"
          ]
        }
      ]
    },
    {
      "cell_type": "code",
      "source": [
        "a = np.array(df)[:,:-1] #this is 2D array, we are taking values of all rows and all columns except last column\n",
        "\n",
        "print(\"The attributes are: \",a)"
      ],
      "metadata": {
        "colab": {
          "base_uri": "https://localhost:8080/"
        },
        "id": "nGaKtOeInJmt",
        "outputId": "364565a7-39f3-4570-f73a-d5c02fbeb8ee"
      },
      "execution_count": null,
      "outputs": [
        {
          "output_type": "stream",
          "name": "stdout",
          "text": [
            "The attributes are:  [['Sunny' 'Warm' 'Normal' 'Strong' 'Warm' 'Same']\n",
            " ['Sunny' 'Warm' 'High' 'Strong' 'Warm' 'Same']\n",
            " ['Rainy' 'Cold' 'High' 'Strong' 'Warm' 'Change']\n",
            " ['Sunny' 'Warm' 'High' 'Strong' 'Cool' 'Change']]\n"
          ]
        }
      ]
    },
    {
      "cell_type": "code",
      "source": [
        "t = np.array(df)[:,-1] #getting only output values of dataset\n",
        "\n",
        "print(\"The target is: \",t)"
      ],
      "metadata": {
        "colab": {
          "base_uri": "https://localhost:8080/"
        },
        "id": "9qu-C_9-nQDu",
        "outputId": "cc2bfc68-a446-48c4-cb4a-9ce0c6d7abf3"
      },
      "execution_count": null,
      "outputs": [
        {
          "output_type": "stream",
          "name": "stdout",
          "text": [
            "The target is:  ['Yes' 'Yes' 'No' 'Yes']\n"
          ]
        }
      ]
    },
    {
      "cell_type": "code",
      "source": [
        "#Candidate Elimination algorithm-\n",
        "#initialize specific hypothesis (1D list) by phi (null) and general hypothesis (2D list) by '?'\n",
        "\n",
        "#search and assign 1st +ve instance to specific hypothesis (due to cases where 1st row in table is -ve instance,\n",
        "#and specific hypothesis can't be initialized with -ve instance)\n",
        "\n",
        "#iterate through attribute list to check if attributes of it and specific hypothesis are same\n",
        "\n",
        "#if +ve instance found, change attribute values of both general and specific hypothesis to '?'\n",
        "#if corresponding attribute list value is different from that of specific hypothesis\n",
        "#else do nothing (means both are same)\n",
        "\n",
        "#if it is -ve instance and corresponding attribute list value is different, then assign\n",
        "#attribute value of specific hypothesis to that of general hypothesis\n",
        "#otherwise replace corresponding attribute value of general hypothesis with '?'\n",
        "\n",
        "#at last remove all sub-lists with only '?' in general hypothesis\n",
        "\n",
        "def CE(attributes, target):\n",
        "    print(\"Initialization of specific hypothesis and general hypothesis\")\n",
        "    #initialize specific hypothesis with phi (no. of elements, n= no. of attributes)\n",
        "    sh = ['*' for i in range(len(a[0]))]\n",
        "    print(\"Specific Boundary: \", sh)\n",
        "    #initialize general hypothesis with '?' (it is n x n 2D list)\n",
        "    gh = [[\"?\" for i in range(len(sh))] for i in range(len(sh))]\n",
        "    print(\"Generic Boundary: \",gh)\n",
        "\n",
        "    for i, val in enumerate(target):\n",
        "      if val == \"Yes\":  #1st positive instance found\n",
        "        print('\\nFirst positive instance') #assign first +ve instance to specific hypothesis\n",
        "        sh = attributes[i].copy()\n",
        "        break\n",
        "\n",
        "    for i, h in enumerate(attributes):\n",
        "        print(\"\\n\\nInstance\", i+1 , \"is \", h)\n",
        "        if target[i] == \"Yes\": #if +ve instance then check corresponding attributes\n",
        "            print(\"Instance is Positive \")\n",
        "            for x in range(len(sh)):\n",
        "                  if h[x]!= sh[x]: #if different then replace attribute by '?' in specific and general hypothesis\n",
        "                      sh[x] ='?'\n",
        "                      gh[x][x] ='?'\n",
        "\n",
        "        elif target[i] == \"No\":  #-ve instance found, again check corresponding attributes\n",
        "            print(\"Instance is Negative \")\n",
        "            for x in range(len(sh)):\n",
        "                if h[x]!= sh[x]:  #if different then replace attribute in general hypothesis with that of specific hypothesis\n",
        "                    gh[x][x] = sh[x]\n",
        "                else:\n",
        "                    gh[x][x] = '?' #otherwise replace attribute in general hypothesis with '?'\n",
        "\n",
        "        print('\\nG',i+1,' =',gh,'\\nS',i+1,' =',sh)\n",
        "\n",
        "    indices = [i for i, val in enumerate(gh) if val == ['?', '?', '?', '?', '?', '?']]\n",
        "    for i in indices:   #at the end remove lists with only '?' in general hypothesis\n",
        "        gh.remove(['?', '?', '?', '?', '?', '?'])\n",
        "    return sh, gh\n",
        "\n",
        "s, g = CE(a, t)\n",
        "\n",
        "print(\"\\n\\nFinal Specific hypothesis: \", s)\n",
        "print(\"Final General hypothesis: \", g)"
      ],
      "metadata": {
        "colab": {
          "base_uri": "https://localhost:8080/"
        },
        "id": "g6ZFsvDNnRne",
        "outputId": "28542d79-147f-46e7-a675-d739caa65d9c"
      },
      "execution_count": null,
      "outputs": [
        {
          "output_type": "stream",
          "name": "stdout",
          "text": [
            "Initialization of specific hypothesis and general hypothesis\n",
            "Specific Boundary:  ['*', '*', '*', '*', '*', '*']\n",
            "Generic Boundary:  [['?', '?', '?', '?', '?', '?'], ['?', '?', '?', '?', '?', '?'], ['?', '?', '?', '?', '?', '?'], ['?', '?', '?', '?', '?', '?'], ['?', '?', '?', '?', '?', '?'], ['?', '?', '?', '?', '?', '?']]\n",
            "\n",
            "First positive instance\n",
            "\n",
            "\n",
            "Instance 1 is  ['Sunny' 'Warm' 'Normal' 'Strong' 'Warm' 'Same']\n",
            "Instance is Positive \n",
            "\n",
            "G 1  = [['?', '?', '?', '?', '?', '?'], ['?', '?', '?', '?', '?', '?'], ['?', '?', '?', '?', '?', '?'], ['?', '?', '?', '?', '?', '?'], ['?', '?', '?', '?', '?', '?'], ['?', '?', '?', '?', '?', '?']] \n",
            "S 1  = ['Sunny' 'Warm' 'Normal' 'Strong' 'Warm' 'Same']\n",
            "\n",
            "\n",
            "Instance 2 is  ['Sunny' 'Warm' 'High' 'Strong' 'Warm' 'Same']\n",
            "Instance is Positive \n",
            "\n",
            "G 2  = [['?', '?', '?', '?', '?', '?'], ['?', '?', '?', '?', '?', '?'], ['?', '?', '?', '?', '?', '?'], ['?', '?', '?', '?', '?', '?'], ['?', '?', '?', '?', '?', '?'], ['?', '?', '?', '?', '?', '?']] \n",
            "S 2  = ['Sunny' 'Warm' '?' 'Strong' 'Warm' 'Same']\n",
            "\n",
            "\n",
            "Instance 3 is  ['Rainy' 'Cold' 'High' 'Strong' 'Warm' 'Change']\n",
            "Instance is Negative \n",
            "\n",
            "G 3  = [['Sunny', '?', '?', '?', '?', '?'], ['?', 'Warm', '?', '?', '?', '?'], ['?', '?', '?', '?', '?', '?'], ['?', '?', '?', '?', '?', '?'], ['?', '?', '?', '?', '?', '?'], ['?', '?', '?', '?', '?', 'Same']] \n",
            "S 3  = ['Sunny' 'Warm' '?' 'Strong' 'Warm' 'Same']\n",
            "\n",
            "\n",
            "Instance 4 is  ['Sunny' 'Warm' 'High' 'Strong' 'Cool' 'Change']\n",
            "Instance is Positive \n",
            "\n",
            "G 4  = [['Sunny', '?', '?', '?', '?', '?'], ['?', 'Warm', '?', '?', '?', '?'], ['?', '?', '?', '?', '?', '?'], ['?', '?', '?', '?', '?', '?'], ['?', '?', '?', '?', '?', '?'], ['?', '?', '?', '?', '?', '?']] \n",
            "S 4  = ['Sunny' 'Warm' '?' 'Strong' '?' '?']\n",
            "\n",
            "\n",
            "Final Specific hypothesis:  ['Sunny' 'Warm' '?' 'Strong' '?' '?']\n",
            "Final General hypothesis:  [['Sunny', '?', '?', '?', '?', '?'], ['?', 'Warm', '?', '?', '?', '?']]\n"
          ]
        }
      ]
    },
    {
      "cell_type": "code",
      "source": [
        "#alternate way to print g\n",
        "g=[['Sunny', '?', '?', '?', '?', '?'], ['?', 'Warm', '?', '?', '?', '?'], ['?', '?', '?', '?', '?', '?'], ['?', '?', '?', '?', '?', '?'], ['?', '?', '?', '?', '?', '?'], ['?', '?', '?', '?', '?', 'Same']]\n",
        "s=['Sunny', 'Warm', '?' ,'Strong' ,'?' ,'?']\n",
        "n,l=[],[]\n",
        "\n",
        "#if we put len(g) or directly pop like g.pop(i), it won't work since length of g is dynamically reduced\n",
        "#so index of lists to be popped varies in each round\n",
        "for i in range(len(s)):\n",
        "        if i<len(g) and (g[i][i]!=s[i] or g[i][i]=='?'):\n",
        "            n.append(i)\n",
        "\n",
        "for i in range(len(s)):\n",
        "    if i not in n:\n",
        "        l.append(g[i])\n",
        "\n",
        "print(l)"
      ],
      "metadata": {
        "colab": {
          "base_uri": "https://localhost:8080/"
        },
        "id": "S-x8N4DwG3vP",
        "outputId": "997a7ccd-20f0-4943-db38-1b660bbfe2f0"
      },
      "execution_count": null,
      "outputs": [
        {
          "output_type": "stream",
          "name": "stdout",
          "text": [
            "[['Sunny', '?', '?', '?', '?', '?'], ['?', 'Warm', '?', '?', '?', '?']]\n"
          ]
        }
      ]
    }
  ]
}