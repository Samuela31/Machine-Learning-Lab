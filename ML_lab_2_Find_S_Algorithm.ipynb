{
  "nbformat": 4,
  "nbformat_minor": 0,
  "metadata": {
    "colab": {
      "provenance": [],
      "authorship_tag": "ABX9TyOcIwIP4ApFvc1YRnZqcrfz",
      "include_colab_link": true
    },
    "kernelspec": {
      "name": "python3",
      "display_name": "Python 3"
    },
    "language_info": {
      "name": "python"
    }
  },
  "cells": [
    {
      "cell_type": "markdown",
      "metadata": {
        "id": "view-in-github",
        "colab_type": "text"
      },
      "source": [
        "<a href=\"https://colab.research.google.com/github/Samuela31/Machine-Learning-Lab/blob/main/ML_lab_2_Find_S_Algorithm.ipynb\" target=\"_parent\"><img src=\"https://colab.research.google.com/assets/colab-badge.svg\" alt=\"Open In Colab\"/></a>"
      ]
    },
    {
      "cell_type": "code",
      "execution_count": null,
      "metadata": {
        "colab": {
          "base_uri": "https://localhost:8080/"
        },
        "id": "IcQOWeehmiYa",
        "outputId": "9940b00c-3f17-473d-cfb8-7ca39b1eae1d"
      },
      "outputs": [
        {
          "output_type": "stream",
          "name": "stdout",
          "text": [
            "     Sky  Temp Humidity    Wind Water Forecast EnjoySport\n",
            "0  Sunny  Warm   Normal  Strong  Warm     Same        Yes\n",
            "1  Sunny  Warm     High  Strong  Warm     Same        Yes\n",
            "2  Rainy  Cold     High  Strong  Warm   Change         No\n",
            "3  Sunny  Warm     High  Strong  Cool   Change        Yes\n"
          ]
        }
      ],
      "source": [
        "import pandas as pd\n",
        "import numpy as np\n",
        "\n",
        "df = pd.read_csv('enjoysport.csv') #reading csv file\n",
        "\n",
        "print(df)"
      ]
    },
    {
      "cell_type": "code",
      "source": [
        "a = np.array(df)[:,:-1] #this is 2D array, we are taking values of all rows and all columns except last column\n",
        "\n",
        "print(\"The attributes are: \",a)"
      ],
      "metadata": {
        "colab": {
          "base_uri": "https://localhost:8080/"
        },
        "id": "5VumL2VatXID",
        "outputId": "46a13278-d74d-45ee-f8e1-b3ed77db4d4b"
      },
      "execution_count": null,
      "outputs": [
        {
          "output_type": "stream",
          "name": "stdout",
          "text": [
            "The attributes are:  [['Sunny' 'Warm' 'Normal' 'Strong' 'Warm' 'Same']\n",
            " ['Sunny' 'Warm' 'High' 'Strong' 'Warm' 'Same']\n",
            " ['Rainy' 'Cold' 'High' 'Strong' 'Warm' 'Change']\n",
            " ['Sunny' 'Warm' 'High' 'Strong' 'Cool' 'Change']]\n"
          ]
        }
      ]
    },
    {
      "cell_type": "code",
      "source": [
        "t = np.array(df)[:,-1] #getting only output values of dataset\n",
        "\n",
        "print(\"The target is: \",t)"
      ],
      "metadata": {
        "colab": {
          "base_uri": "https://localhost:8080/"
        },
        "id": "9hjuvKi4t9mJ",
        "outputId": "1c904884-b83e-47f6-8de6-29400aa78857"
      },
      "execution_count": null,
      "outputs": [
        {
          "output_type": "stream",
          "name": "stdout",
          "text": [
            "The target is:  ['Yes' 'Yes' 'No' 'Yes']\n"
          ]
        }
      ]
    },
    {
      "cell_type": "code",
      "source": [
        "#find-S implementation-\n",
        "#Initialize specific_hypothesis with the first positive example i.e 1st example with Yes\n",
        "#Then for every positive example compare it with specific_hypothesis\n",
        "#If an attribute does not match replace it with ‘?’, do the same for all positive examples\n",
        "\n",
        "def findS(attributes,target):\n",
        " for i, val in enumerate(target):\n",
        "  if val == \"Yes\":  #1st positive example found\n",
        "    specific_hypothesis = attributes[i].copy()\n",
        "    break\n",
        "\n",
        " for j, val in enumerate(attributes):\n",
        "  if target[j] == \"Yes\" and i!=j: #positive example found\n",
        "    for x in range(len(specific_hypothesis)):\n",
        "      if val[x] != specific_hypothesis[x]: #comparing attributes\n",
        "         specific_hypothesis[x] = '?'\n",
        "\n",
        " return specific_hypothesis\n",
        "\n",
        "print(\"The generalized hypothesis is:\",findS(a,t))\n"
      ],
      "metadata": {
        "colab": {
          "base_uri": "https://localhost:8080/"
        },
        "id": "Vyl2NjRfuSEx",
        "outputId": "31e463ed-1907-47e0-acf0-d003538faec7"
      },
      "execution_count": null,
      "outputs": [
        {
          "output_type": "stream",
          "name": "stdout",
          "text": [
            "The generalized hypothesis is: ['Sunny' 'Warm' '?' 'Strong' '?' '?']\n"
          ]
        }
      ]
    }
  ]
}